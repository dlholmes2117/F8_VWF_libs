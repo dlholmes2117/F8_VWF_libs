{
 "cells": [
  {
   "cell_type": "code",
   "execution_count": 3,
   "id": "e45e54b2-abf9-464e-b786-53d5fcf911ab",
   "metadata": {},
   "outputs": [],
   "source": [
    "import numpy as np\n",
    "import matplotlib.pyplot as plt\n",
    "from Bio.Seq import Seq\n",
    "from Bio import SeqIO\n",
    "import pandas as pd\n",
    "import itertools\n",
    "import re\n",
    "from scipy.spatial import distance\n",
    "import json\n",
    "from Bio.SeqUtils import MeltingTemp as mt\n",
    "import random\n",
    "import pprint\n",
    "import string"
   ]
  },
  {
   "cell_type": "code",
   "execution_count": 6,
   "id": "f2a7c101-e5bd-4633-8eb3-cecfcf342541",
   "metadata": {},
   "outputs": [],
   "source": [
    "#Import primers\n",
    "orthogonal_F = pd.read_excel('../RR_orthogonalFv1_plate.xlsx')\n",
    "orthogonal_R = pd.read_excel('../RR_orthogonalRv1_plate.xlsx')"
   ]
  },
  {
   "cell_type": "code",
   "execution_count": 8,
   "id": "71bfde6a-aae7-4377-b0ce-86604d3c4e56",
   "metadata": {},
   "outputs": [],
   "source": [
    "#Isolate 20-nt variable primer binding region and only use that to align to sequences\n",
    "orthogonal_F['PrimerEnd'] = orthogonal_F.Sequence.apply(lambda x: x[-20:])\n",
    "orthogonal_R['PrimerEnd'] = orthogonal_R.Sequence.apply(lambda x: x[-20:])"
   ]
  },
  {
   "cell_type": "code",
   "execution_count": 9,
   "id": "c77b6ae3-f45a-4253-8420-ec06a1887c09",
   "metadata": {},
   "outputs": [],
   "source": [
    "# Exclude poor primers determined empirically\n",
    "bad_primers_F = [\"A9\", \"C3\", \"D3\", \"E3\", \"G4\", \"G6\", \"H4\"]\n",
    "bad_primers_R = [\"A9\", \"C6\", \"D3\", \"D7\", \"E10\", \"E3\", \"E6\", \"H4\"]\n",
    "red_primers = [\"A8\",\"A9\",\"C3\",\"C4\",\"C6\",\"C8\",\"C9\",\"H2\",\"D3\",\"D4\",\"D8\",\"D9\",\"E3\",\"E6\",\"F3\",\"F4\",\"G3\",\"G4\",\"G6\",\"H3\",\"H4\",\"H5\",\"H7\"]\n",
    "\n",
    "orthogonal_F['Exclude'] = orthogonal_F['Well Position'].map(lambda x: True if x in bad_primers_F else False)\n",
    "orthogonal_R['Exclude'] = orthogonal_R['Well Position'].map(lambda x: True if x in bad_primers_R else False)\n",
    "\n",
    "orthogonal_F['Worse'] = orthogonal_F['Well Position'].map(lambda x: True if x in red_primers else False)\n",
    "orthogonal_R['Worse'] = orthogonal_R['Well Position'].map(lambda x: True if x in red_primers else False)"
   ]
  },
  {
   "cell_type": "code",
   "execution_count": 10,
   "id": "6abbe5db-8fb0-4c3d-a3cb-94ec88d56e88",
   "metadata": {},
   "outputs": [],
   "source": [
    "#Check for BsaI sites and remove any primers with them\n",
    "bsaI_seq = Seq('GGTCTC')\n",
    "orthogonal_F['BsaI_Site_Present'] = orthogonal_F.Sequence.apply(lambda x: ( (str(bsaI_seq) in x) | (str(bsaI_seq.reverse_complement()) in x) ))\n",
    "orthogonal_R['BsaI_Site_Present'] = orthogonal_R.Sequence.apply(lambda x: ( (str(bsaI_seq) in x) | (str(bsaI_seq.reverse_complement()) in x) ))\n"
   ]
  },
  {
   "cell_type": "code",
   "execution_count": 11,
   "id": "e07a3329-7ed0-49d1-8cf0-35d5995cdd34",
   "metadata": {},
   "outputs": [],
   "source": [
    "# Adapted from Willow Coyote-Maestas' DIMPLE paper, cite doi: 10.1186/s13059-023-02880-6\n",
    "def check_nonspecific(primer, fragment, Tm_verb = 20, Tm_rem = 28, primer3_shift = 4, verbose=True):\n",
    "    non = []\n",
    "    # Forward\n",
    "    for i in range(len(fragment) - len(primer)):  # Scan each position\n",
    "        match = [\n",
    "            primer[j].lower() == fragment[i + j].lower() for j in range(len(primer))\n",
    "        ]\n",
    "        first = 10\n",
    "        for k in range(len(match) - 3):\n",
    "            if (match[k] and match[k + 1] and match[k + 3]) or (\n",
    "                match[k] and match[k + 1] and match[k + 2]\n",
    "            ):\n",
    "                first = k\n",
    "                break\n",
    "        if (\n",
    "            sum(match[first:]) > len(primer[first:]) * 0.8\n",
    "            and sum(match[first:]) > 6\n",
    "            and match[-1]\n",
    "        ):  # string compare - sum of matched nt is greater than 80%\n",
    "            try:\n",
    "                melt = mt.Tm_NN(\n",
    "                    primer[first:],\n",
    "                    c_seq=fragment[i + first : i + len(primer)].complement(),\n",
    "                    nn_table=mt.DNA_NN2,\n",
    "                    de_table=mt.DNA_DE1,\n",
    "                    imm_table=mt.DNA_IMM1,\n",
    "                )\n",
    "                if verbose == True:\n",
    "                    if melt > Tm_verb:\n",
    "                        print(\"Found non-specific match at \" + str(i + 1) + \"bp:\")\n",
    "                        print(\" match:\" + fragment[i : i + len(primer)])\n",
    "                        print(\"primer:\" + primer + \" Tm:\" + str(round(melt, 1)))\n",
    "                if melt > Tm_rem:\n",
    "                    non.append(True)\n",
    "            except ValueError as valerr:\n",
    "                # use primer3 instead, as mt.DNA_NN2 table does not have enough information to compute Tm\n",
    "                result = primer3.calcHeterodimer(str(primer[first:]), \n",
    "                                                 str(fragment[i + first : i + len(primer)].complement())\n",
    "                                                )\n",
    "                melt = result.tm\n",
    "                if verbose == True:\n",
    "                    if melt > Tm_verb-primer3_shift:\n",
    "                        print(\"Found non-specific match using Primer3 at \" + str(i + 1) + \"bp:\")\n",
    "                        print(\" match:\" + fragment[i : i + len(primer)])\n",
    "                        print(\"primer:\" + primer + \" Tm:\" + str(round(melt, 1)))\n",
    "                if melt > Tm_rem-primer3_shift:\n",
    "                    non.append(True)\n",
    "                    \n",
    "    # Reverse\n",
    "    fragment = fragment.reverse_complement()\n",
    "    for i in range(len(fragment) - len(primer)):\n",
    "        match = [\n",
    "            primer[j].lower() == fragment[i + j].lower() for j in range(len(primer))\n",
    "        ]\n",
    "        first = 10\n",
    "        for k in range(0, len(match) - 3, 1):\n",
    "            if match[k] and match[k + 1] and match[k + 3]:\n",
    "                first = k\n",
    "                break\n",
    "        if (\n",
    "            sum(match[first:]) > len(primer[first:]) * 0.8\n",
    "            and sum(match[first:]) > 6\n",
    "            and match[-1]\n",
    "        ):  # string compare - sum of matched nt is greater than 80%\n",
    "            try:\n",
    "                melt = mt.Tm_NN(\n",
    "                    primer[first:],\n",
    "                    c_seq=fragment[i + first : i + len(primer)].complement(),\n",
    "                    nn_table=mt.DNA_NN2,\n",
    "                    de_table=mt.DNA_DE1,\n",
    "                    imm_table=mt.DNA_IMM1,\n",
    "                )\n",
    "                if verbose == True:\n",
    "                    if melt > Tm_verb:\n",
    "                        print(\"Found non-specific match at \" + str(i + 1) + \"bp:\")\n",
    "                        print(\" match:\" + fragment[i : i + len(primer)])\n",
    "                        print(\"primer:\" + primer + \" Tm:\" + str(melt))\n",
    "                if melt > Tm_rem:\n",
    "                    non.append(True)\n",
    "            except ValueError as valerr:\n",
    "                # use primer3 instead, as mt.DNA_NN2 table does not have enough information to compute Tm\n",
    "                result = primer3.calcHeterodimer(str(primer[first:]), \n",
    "                                                 str(fragment[i + first : i + len(primer)].complement())\n",
    "                                                )\n",
    "                melt = result.tm\n",
    "                if verbose == True:\n",
    "                    if melt > Tm_verb-primer3_shift:\n",
    "                        print(\"Found non-specific match using Primer3 at \" + str(i + 1) + \"bp:\")\n",
    "                        print(\" match:\" + fragment[i : i + len(primer)])\n",
    "                        print(\"primer:\" + primer + \" Tm:\" + str(round(melt, 1)))\n",
    "                if melt > Tm_rem-primer3_shift:\n",
    "                    non.append(True)\n",
    "    return sum(non)\n"
   ]
  },
  {
   "cell_type": "code",
   "execution_count": 13,
   "id": "64071724-4c10-483e-8e6c-b2f4cae6e30b",
   "metadata": {},
   "outputs": [
    {
     "name": "stdout",
     "output_type": "stream",
     "text": [
      "Processing Homo sapiens von Willebrand factor (VWF), mRNA\n"
     ]
    }
   ],
   "source": [
    "# Use refseq MANE annotations to find gene cDNA sequences\n",
    "refseq_MANE_summary_filepath = '../MANE.GRCh38.v1.3.summary.txt'\n",
    "refseq_MANE_filepath = \"../MANE.GRCh38.v1.3.refseq_rna.gbff\"\n",
    "refseq_MANE_summary = pd.read_csv(refseq_MANE_summary_filepath, sep='\\t')\n",
    "refseq_MANE_stream = SeqIO.parse(refseq_MANE_filepath, \"genbank\")\n",
    "\n",
    "# genes for assay\n",
    "genes_of_interest = \\\n",
    "['VWF']\n",
    "\n",
    "# find correct transcripts\n",
    "genes_to_MANE_transcripts = refseq_MANE_summary.\\\n",
    "    query('MANE_status == \"MANE Select\"').\\\n",
    "    query('symbol in @genes_of_interest')\n",
    "\n",
    "# find refseq\n",
    "gene_transcript_dict = {}\n",
    "for rec in refseq_MANE_stream:\n",
    "    if rec.id in genes_to_MANE_transcripts['RefSeq_nuc'].values:\n",
    "        print('Processing ' + rec.description)\n",
    "        for feature in rec.features:\n",
    "            if feature.type == \"CDS\":\n",
    "                gene_transcript_dict[rec.id] = [rec.description,\n",
    "                                                str(feature.location.extract(rec).seq)]\n",
    "genes_to_MANE_transcripts = genes_to_MANE_transcripts.\\\n",
    "    merge(pd.DataFrame.from_dict(gene_transcript_dict, orient='index', columns=['Description', 'CDS_Seq']),\n",
    "             left_on='RefSeq_nuc', right_index=True)\n"
   ]
  },
  {
   "cell_type": "code",
   "execution_count": 14,
   "id": "36035e65-6086-4af8-b994-9e9b64baca55",
   "metadata": {},
   "outputs": [
    {
     "name": "stdout",
     "output_type": "stream",
     "text": [
      "VWF\n",
      "CDS: ATGATTCCTGCCAGATTTGCCGGGGTGCTGCTTGCTCTGGCCCTCATTTTGCCAGGGACCCTTTGTGCAGAAGGAACTCGCGGCAGGTCATCCACGGCCCGATGCAGCCTTTTCGGAAGTGACTTCGTCAACACCTTTGATGGGAGCATGTACAGCTTTGCGGGATACTGCAGTTACCTCCTGGCAGGGGGCTGCCAGAAACGCTCCTTCTCGATTATTGGGGACTTCCAGAATGGCAAGAGAGTGAGCCTCTCCGTGTATCTTGGGGAATTTTTTGACATCCATTTGTTTGTCAATGGTACCGTGACACAGGGGGACCAAAGAGTCTCCATGCCCTATGCCTCCAAAGGGCTGTATCTAGAAACTGAGGCTGGGTACTACAAGCTGTCCGGTGAGGCCTATGGCTTTGTGGCCAGGATCGATGGCAGCGGCAACTTTCAAGTCCTGCTGTCAGACAGATACTTCAACAAGACCTGCGGGCTGTGTGGCAACTTTAACATCTTTGCTGAAGATGACTTTATGACCCAAGAAGGGACCTTGACCTCGGACCCTTATGACTTTGCCAACTCATGGGCTCTGAGCAGTGGAGAACAGTGGTGTGAACGGGCATCTCCTCCCAGCAGCTCATGCAACATCTCCTCTGGGGAAATGCAGAAGGGCCTGTGGGAGCAGTGCCAGCTTCTGAAGAGCACCTCGGTGTTTGCCCGCTGCCACCCTCTGGTGGACCCCGAGCCTTTTGTGGCCCTGTGTGAGAAGACTTTGTGTGAGTGTGCTGGGGGGCTGGAGTGCGCCTGCCCTGCCCTCCTGGAGTACGCCCGGACCTGTGCCCAGGAGGGAATGGTGCTGTACGGCTGGACCGACCACAGCGCGTGCAGCCCAGTGTGCCCTGCTGGTATGGAGTATAGGCAGTGTGTGTCCCCTTGCGCCAGGACCTGCCAGAGCCTGCACATCAATGAAATGTGTCAGGAGCGATGCGTGGATGGCTGCAGCTGCCCTGAGGGACAGCTCCTGGATGAAGGCCTCTGCGTGGAGAGCACCGAGTGTCCCTGCGTGCATTCCGGAAAGCGCTACCCTCCCGGCACCTCCCTCTCTCGAGACTGCAACACCTGCATTTGCCGAAACAGCCAGTGGATCTGCAGCAATGAAGAATGTCCAGGGGAGTGCCTTGTCACAGGTCAATCACACTTCAAGAGCTTTGACAACAGATACTTCACCTTCAGTGGGATCTGCCAGTACCTGCTGGCCCGGGATTGCCAGGACCACTCCTTCTCCATTGTCATTGAGACTGTCCAGTGTGCTGATGACCGCGACGCTGTGTGCACCCGCTCCGTCACCGTCCGGCTGCCTGGCCTGCACAACAGCCTTGTGAAACTGAAGCATGGGGCAGGAGTTGCCATGGATGGCCAGGACGTCCAGCTCCCCCTCCTGAAAGGTGACCTCCGCATCCAGCATACAGTGACGGCCTCCGTGCGCCTCAGCTACGGGGAGGACCTGCAGATGGACTGGGATGGCCGCGGGAGGCTGCTGGTGAAGCTGTCCCCCGTCTATGCCGGGAAGACCTGCGGCCTGTGTGGGAATTACAATGGCAACCAGGGCGACGACTTCCTTACCCCCTCTGGGCTGGCGGAGCCCCGGGTGGAGGACTTCGGGAACGCCTGGAAGCTGCACGGGGACTGCCAGGACCTGCAGAAGCAGCACAGCGATCCCTGCGCCCTCAACCCGCGCATGACCAGGTTCTCCGAGGAGGCGTGCGCGGTCCTGACGTCCCCCACATTCGAGGCCTGCCATCGTGCCGTCAGCCCGCTGCCCTACCTGCGGAACTGCCGCTACGACGTGTGCTCCTGCTCGGACGGCCGCGAGTGCCTGTGCGGCGCCCTGGCCAGCTATGCCGCGGCCTGCGCGGGGAGAGGCGTGCGCGTCGCGTGGCGCGAGCCAGGCCGCTGTGAGCTGAACTGCCCGAAAGGCCAGGTGTACCTGCAGTGCGGGACCCCCTGCAACCTGACCTGCCGCTCTCTCTCTTACCCGGATGAGGAATGCAATGAGGCCTGCCTGGAGGGCTGCTTCTGCCCCCCAGGGCTCTACATGGATGAGAGGGGGGACTGCGTGCCCAAGGCCCAGTGCCCCTGTTACTATGACGGTGAGATCTTCCAGCCAGAAGACATCTTCTCAGACCATCACACCATGTGCTACTGTGAGGATGGCTTCATGCACTGTACCATGAGTGGAGTCCCCGGAAGCTTGCTGCCTGACGCTGTCCTCAGCAGTCCCCTGTCTCATCGCAGCAAAAGGAGCCTATCCTGTCGGCCCCCCATGGTCAAGCTGGTGTGTCCCGCTGACAACCTGCGGGCTGAAGGGCTCGAGTGTACCAAAACGTGCCAGAACTATGACCTGGAGTGCATGAGCATGGGCTGTGTCTCTGGCTGCCTCTGCCCCCCGGGCATGGTCCGGCATGAGAACAGATGTGTGGCCCTGGAAAGGTGTCCCTGCTTCCATCAGGGCAAGGAGTATGCCCCTGGAGAAACAGTGAAGATTGGCTGCAACACTTGTGTCTGTCAGGACCGGAAGTGGAACTGCACAGACCATGTGTGTGATGCCACGTGCTCCACGATCGGCATGGCCCACTACCTCACCTTCGACGGGCTCAAATACCTGTTCCCCGGGGAGTGCCAGTACGTTCTGGTGCAGGATTACTGCGGCAGTAACCCTGGGACCTTTCGGATCCTAGTGGGGAATAAGGGATGCAGCCACCCCTCAGTGAAATGCAAGAAACGGGTCACCATCCTGGTGGAGGGAGGAGAGATTGAGCTGTTTGACGGGGAGGTGAATGTGAAGAGGCCCATGAAGGATGAGACTCACTTTGAGGTGGTGGAGTCTGGCCGGTACATCATTCTGCTGCTGGGCAAAGCCCTCTCCGTGGTCTGGGACCGCCACCTGAGCATCTCCGTGGTCCTGAAGCAGACATACCAGGAGAAAGTGTGTGGCCTGTGTGGGAATTTTGATGGCATCCAGAACAATGACCTCACCAGCAGCAACCTCCAAGTGGAGGAAGACCCTGTGGACTTTGGGAACTCCTGGAAAGTGAGCTCGCAGTGTGCTGACACCAGAAAAGTGCCTCTGGACTCATCCCCTGCCACCTGCCATAACAACATCATGAAGCAGACGATGGTGGATTCCTCCTGTAGAATCCTTACCAGTGACGTCTTCCAGGACTGCAACAAGCTGGTGGACCCCGAGCCATATCTGGATGTCTGCATTTACGACACCTGCTCCTGTGAGTCCATTGGGGACTGCGCCTGCTTCTGCGACACCATTGCTGCCTATGCCCACGTGTGTGCCCAGCATGGCAAGGTGGTGACCTGGAGGACGGCCACATTGTGCCCCCAGAGCTGCGAGGAGAGGAATCTCCGGGAGAACGGGTATGAGTGTGAGTGGCGCTATAACAGCTGTGCACCTGCCTGTCAAGTCACGTGTCAGCACCCTGAGCCACTGGCCTGCCCTGTGCAGTGTGTGGAGGGCTGCCATGCCCACTGCCCTCCAGGGAAAATCCTGGATGAGCTTTTGCAGACCTGCGTTGACCCTGAAGACTGTCCAGTGTGTGAGGTGGCTGGCCGGCGTTTTGCCTCAGGAAAGAAAGTCACCTTGAATCCCAGTGACCCTGAGCACTGCCAGATTTGCCACTGTGATGTTGTCAACCTCACCTGTGAAGCCTGCCAGGAGCCGGGAGGCCTGGTGGTGCCTCCCACAGATGCCCCGGTGAGCCCCACCACTCTGTATGTGGAGGACATCTCGGAACCGCCGTTGCACGATTTCTACTGCAGCAGGCTACTGGACCTGGTCTTCCTGCTGGATGGCTCCTCCAGGCTGTCCGAGGCTGAGTTTGAAGTGCTGAAGGCCTTTGTGGTGGACATGATGGAGCGGCTGCGCATCTCCCAGAAGTGGGTCCGCGTGGCCGTGGTGGAGTACCACGACGGCTCCCACGCCTACATCGGGCTCAAGGACCGGAAGCGACCGTCAGAGCTGCGGCGCATTGCCAGCCAGGTGAAGTATGCGGGCAGCCAGGTGGCCTCCACCAGCGAGGTCTTGAAATACACACTGTTCCAAATCTTCAGCAAGATCGACCGCCCTGAAGCCTCCCGCATCACCCTGCTCCTGATGGCCAGCCAGGAGCCCCAACGGATGTCCCGGAACTTTGTCCGCTACGTCCAGGGCCTGAAGAAGAAGAAGGTCATTGTGATCCCGGTGGGCATTGGGCCCCATGCCAACCTCAAGCAGATCCGCCTCATCGAGAAGCAGGCCCCTGAGAACAAGGCCTTCGTGCTGAGCAGTGTGGATGAGCTGGAGCAGCAAAGGGACGAGATCGTTAGCTACCTCTGTGACCTTGCCCCTGAAGCCCCTCCTCCTACTCTGCCCCCCGACATGGCACAAGTCACTGTGGGCCCGGGGCTCTTGGGGGTTTCGACCCTGGGGCCCAAGAGGAACTCCATGGTTCTGGATGTGGCGTTCGTCCTGGAAGGATCGGACAAAATTGGTGAAGCCGACTTCAACAGGAGCAAGGAGTTCATGGAGGAGGTGATTCAGCGGATGGATGTGGGCCAGGACAGCATCCACGTCACGGTGCTGCAGTACTCCTACATGGTGACTGTGGAGTACCCCTTCAGCGAGGCACAGTCCAAAGGGGACATCCTGCAGCGGGTGCGAGAGATCCGCTACCAGGGCGGCAACAGGACCAACACTGGGCTGGCCCTGCGGTACCTCTCTGACCACAGCTTCTTGGTCAGCCAGGGTGACCGGGAGCAGGCGCCCAACCTGGTCTACATGGTCACCGGAAATCCTGCCTCTGATGAGATCAAGAGGCTGCCTGGAGACATCCAGGTGGTGCCCATTGGAGTGGGCCCTAATGCCAACGTGCAGGAGCTGGAGAGGATTGGCTGGCCCAATGCCCCTATCCTCATCCAGGACTTTGAGACGCTCCCCCGAGAGGCTCCTGACCTGGTGCTGCAGAGGTGCTGCTCCGGAGAGGGGCTGCAGATCCCCACCCTCTCCCCTGCACCTGACTGCAGCCAGCCCCTGGACGTGATCCTTCTCCTGGATGGCTCCTCCAGTTTCCCAGCTTCTTATTTTGATGAAATGAAGAGTTTCGCCAAGGCTTTCATTTCAAAAGCCAATATAGGGCCTCGTCTCACTCAGGTGTCAGTGCTGCAGTATGGAAGCATCACCACCATTGACGTGCCATGGAACGTGGTCCCGGAGAAAGCCCATTTGCTGAGCCTTGTGGACGTCATGCAGCGGGAGGGAGGCCCCAGCCAAATCGGGGATGCCTTGGGCTTTGCTGTGCGATACTTGACTTCAGAAATGCATGGTGCCAGGCCGGGAGCCTCAAAGGCGGTGGTCATCCTGGTCACGGACGTCTCTGTGGATTCAGTGGATGCAGCAGCTGATGCCGCCAGGTCCAACAGAGTGACAGTGTTCCCTATTGGAATTGGAGATCGCTACGATGCAGCCCAGCTACGGATCTTGGCAGGCCCAGCAGGCGACTCCAACGTGGTGAAGCTCCAGCGAATCGAAGACCTCCCTACCATGGTCACCTTGGGCAATTCCTTCCTCCACAAACTGTGCTCTGGATTTGTTAGGATTTGCATGGATGAGGATGGGAATGAGAAGAGGCCCGGGGACGTCTGGACCTTGCCAGACCAGTGCCACACCGTGACTTGCCAGCCAGATGGCCAGACCTTGCTGAAGAGTCATCGGGTCAACTGTGACCGGGGGCTGAGGCCTTCGTGCCCTAACAGCCAGTCCCCTGTTAAAGTGGAAGAGACCTGTGGCTGCCGCTGGACCTGCCCCTGCGTGTGCACAGGCAGCTCCACTCGGCACATCGTGACCTTTGATGGGCAGAATTTCAAGCTGACTGGCAGCTGTTCTTATGTCCTATTTCAAAACAAGGAGCAGGACCTGGAGGTGATTCTCCATAATGGTGCCTGCAGCCCTGGAGCAAGGCAGGGCTGCATGAAATCCATCGAGGTGAAGCACAGTGCCCTCTCCGTCGAGCTGCACAGTGACATGGAGGTGACGGTGAATGGGAGACTGGTCTCTGTTCCTTACGTGGGTGGGAACATGGAAGTCAACGTTTATGGTGCCATCATGCATGAGGTCAGATTCAATCACCTTGGTCACATCTTCACATTCACTCCACAAAACAATGAGTTCCAACTGCAGCTCAGCCCCAAGACTTTTGCTTCAAAGACGTATGGTCTGTGTGGGATCTGTGATGAGAACGGAGCCAATGACTTCATGCTGAGGGATGGCACAGTCACCACAGACTGGAAAACACTTGTTCAGGAATGGACTGTGCAGCGGCCAGGGCAGACGTGCCAGCCCATCCTGGAGGAGCAGTGTCTTGTCCCCGACAGCTCCCACTGCCAGGTCCTCCTCTTACCACTGTTTGCTGAATGCCACAAGGTCCTGGCTCCAGCCACATTCTATGCCATCTGCCAGCAGGACAGTTGCCACCAGGAGCAAGTGTGTGAGGTGATCGCCTCTTATGCCCACCTCTGTCGGACCAACGGGGTCTGCGTTGACTGGAGGACACCTGATTTCTGTGCTATGTCATGCCCACCATCTCTGGTCTACAACCACTGTGAGCATGGCTGTCCCCGGCACTGTGATGGCAACGTGAGCTCCTGTGGGGACCATCCCTCCGAAGGCTGTTTCTGCCCTCCAGATAAAGTCATGTTGGAAGGCAGCTGTGTCCCTGAAGAGGCCTGCACTCAGTGCATTGGTGAGGATGGAGTCCAGCACCAGTTCCTGGAAGCCTGGGTCCCGGACCACCAGCCCTGTCAGATCTGCACATGCCTCAGCGGGCGGAAGGTCAACTGCACAACGCAGCCCTGCCCCACGGCCAAAGCTCCCACGTGTGGCCTGTGTGAAGTAGCCCGCCTCCGCCAGAATGCAGACCAGTGCTGCCCCGAGTATGAGTGTGTGTGTGACCCAGTGAGCTGTGACCTGCCCCCAGTGCCTCACTGTGAACGTGGCCTCCAGCCCACACTGACCAACCCTGGCGAGTGCAGACCCAACTTCACCTGCGCCTGCAGGAAGGAGGAGTGCAAAAGAGTGTCCCCACCCTCCTGCCCCCCGCACCGTTTGCCCACCCTTCGGAAGACCCAGTGCTGTGATGAGTATGAGTGTGCCTGCAACTGTGTCAACTCCACAGTGAGCTGTCCCCTTGGGTACTTGGCCTCAACTGCCACCAATGACTGTGGCTGTACCACAACCACCTGCCTTCCCGACAAGGTGTGTGTCCACCGAAGCACCATCTACCCTGTGGGCCAGTTCTGGGAGGAGGGCTGCGATGTGTGCACCTGCACCGACATGGAGGATGCCGTGATGGGCCTCCGCGTGGCCCAGTGCTCCCAGAAGCCCTGTGAGGACAGCTGTCGGTCGGGCTTCACTTACGTTCTGCATGAAGGCGAGTGCTGTGGAAGGTGCCTGCCATCTGCCTGTGAGGTGGTGACTGGCTCACCGCGGGGGGACTCCCAGTCTTCCTGGAAGAGTGTCGGCTCCCAGTGGGCCTCCCCGGAGAACCCCTGCCTCATCAATGAGTGTGTCCGAGTGAAGGAGGAGGTCTTTATACAACAAAGGAACGTCTCCTGCCCCCAGCTGGAGGTCCCTGTCTGCCCCTCGGGCTTTCAGCTGAGCTGTAAGACCTCAGCGTGCTGCCCAAGCTGTCGCTGTGAGCGCATGGAGGCCTGCATGCTCAATGGCACTGTCATTGGGCCCGGGAAGACTGTGATGATCGATGTGTGCACGACCTGCCGCTGCATGGTGCAGGTGGGGGTCATCTCTGGATTCAAGCTGGAGTGCAGGAAGACCACCTGCAACCCCTGCCCCCTGGGTTACAAGGAAGAAAATAACACAGGTGAATGTTGTGGGAGATGTTTGCCTACGGCTTGCACCATTCAGCTAAGAGGAGGACAGATCATGACACTGAAGCGTGATGAGACGCTCCAGGATGGCTGTGATACTCACTTCTGCAAGGTCAATGAGAGAGGAGAGTACTTCTGGGAGAAGAGGGTCACAGGCTGCCCACCCTTTGATGAACACAAGTGTCTGGCTGAGGGAGGTAAAATTATGAAAATTCCAGGCACCTGCTGTGACACATGTGAGGAGCCTGAGTGCAACGACATCACTGCCAGGCTGCAGTATGTCAAGGTGGGAAGCTGTAAGTCTGAAGTAGAGGTGGATATCCACTACTGCCAGGGCAAATGTGCCAGCAAAGCCATGTACTCCATTGACATCAACGATGTGCAGGACCAGTGCTCCTGCTGCTCTCCGACACGGACGGAGCCCATGCAGGTGGCCCTGCACTGCACCAATGGCTCTGTTGTGTACCATGAGGTTCTCAATGCCATGGAGTGCAAATGCTCCCCCAGGAAGTGCAGCAAGTGA\n",
      "AA: MIPARFAGVLLALALILPGTLCAEGTRGRSSTARCSLFGSDFVNTFDGSMYSFAGYCSYLLAGGCQKRSFSIIGDFQNGKRVSLSVYLGEFFDIHLFVNGTVTQGDQRVSMPYASKGLYLETEAGYYKLSGEAYGFVARIDGSGNFQVLLSDRYFNKTCGLCGNFNIFAEDDFMTQEGTLTSDPYDFANSWALSSGEQWCERASPPSSSCNISSGEMQKGLWEQCQLLKSTSVFARCHPLVDPEPFVALCEKTLCECAGGLECACPALLEYARTCAQEGMVLYGWTDHSACSPVCPAGMEYRQCVSPCARTCQSLHINEMCQERCVDGCSCPEGQLLDEGLCVESTECPCVHSGKRYPPGTSLSRDCNTCICRNSQWICSNEECPGECLVTGQSHFKSFDNRYFTFSGICQYLLARDCQDHSFSIVIETVQCADDRDAVCTRSVTVRLPGLHNSLVKLKHGAGVAMDGQDVQLPLLKGDLRIQHTVTASVRLSYGEDLQMDWDGRGRLLVKLSPVYAGKTCGLCGNYNGNQGDDFLTPSGLAEPRVEDFGNAWKLHGDCQDLQKQHSDPCALNPRMTRFSEEACAVLTSPTFEACHRAVSPLPYLRNCRYDVCSCSDGRECLCGALASYAAACAGRGVRVAWREPGRCELNCPKGQVYLQCGTPCNLTCRSLSYPDEECNEACLEGCFCPPGLYMDERGDCVPKAQCPCYYDGEIFQPEDIFSDHHTMCYCEDGFMHCTMSGVPGSLLPDAVLSSPLSHRSKRSLSCRPPMVKLVCPADNLRAEGLECTKTCQNYDLECMSMGCVSGCLCPPGMVRHENRCVALERCPCFHQGKEYAPGETVKIGCNTCVCQDRKWNCTDHVCDATCSTIGMAHYLTFDGLKYLFPGECQYVLVQDYCGSNPGTFRILVGNKGCSHPSVKCKKRVTILVEGGEIELFDGEVNVKRPMKDETHFEVVESGRYIILLLGKALSVVWDRHLSISVVLKQTYQEKVCGLCGNFDGIQNNDLTSSNLQVEEDPVDFGNSWKVSSQCADTRKVPLDSSPATCHNNIMKQTMVDSSCRILTSDVFQDCNKLVDPEPYLDVCIYDTCSCESIGDCACFCDTIAAYAHVCAQHGKVVTWRTATLCPQSCEERNLRENGYECEWRYNSCAPACQVTCQHPEPLACPVQCVEGCHAHCPPGKILDELLQTCVDPEDCPVCEVAGRRFASGKKVTLNPSDPEHCQICHCDVVNLTCEACQEPGGLVVPPTDAPVSPTTLYVEDISEPPLHDFYCSRLLDLVFLLDGSSRLSEAEFEVLKAFVVDMMERLRISQKWVRVAVVEYHDGSHAYIGLKDRKRPSELRRIASQVKYAGSQVASTSEVLKYTLFQIFSKIDRPEASRITLLLMASQEPQRMSRNFVRYVQGLKKKKVIVIPVGIGPHANLKQIRLIEKQAPENKAFVLSSVDELEQQRDEIVSYLCDLAPEAPPPTLPPDMAQVTVGPGLLGVSTLGPKRNSMVLDVAFVLEGSDKIGEADFNRSKEFMEEVIQRMDVGQDSIHVTVLQYSYMVTVEYPFSEAQSKGDILQRVREIRYQGGNRTNTGLALRYLSDHSFLVSQGDREQAPNLVYMVTGNPASDEIKRLPGDIQVVPIGVGPNANVQELERIGWPNAPILIQDFETLPREAPDLVLQRCCSGEGLQIPTLSPAPDCSQPLDVILLLDGSSSFPASYFDEMKSFAKAFISKANIGPRLTQVSVLQYGSITTIDVPWNVVPEKAHLLSLVDVMQREGGPSQIGDALGFAVRYLTSEMHGARPGASKAVVILVTDVSVDSVDAAADAARSNRVTVFPIGIGDRYDAAQLRILAGPAGDSNVVKLQRIEDLPTMVTLGNSFLHKLCSGFVRICMDEDGNEKRPGDVWTLPDQCHTVTCQPDGQTLLKSHRVNCDRGLRPSCPNSQSPVKVEETCGCRWTCPCVCTGSSTRHIVTFDGQNFKLTGSCSYVLFQNKEQDLEVILHNGACSPGARQGCMKSIEVKHSALSVELHSDMEVTVNGRLVSVPYVGGNMEVNVYGAIMHEVRFNHLGHIFTFTPQNNEFQLQLSPKTFASKTYGLCGICDENGANDFMLRDGTVTTDWKTLVQEWTVQRPGQTCQPILEEQCLVPDSSHCQVLLLPLFAECHKVLAPATFYAICQQDSCHQEQVCEVIASYAHLCRTNGVCVDWRTPDFCAMSCPPSLVYNHCEHGCPRHCDGNVSSCGDHPSEGCFCPPDKVMLEGSCVPEEACTQCIGEDGVQHQFLEAWVPDHQPCQICTCLSGRKVNCTTQPCPTAKAPTCGLCEVARLRQNADQCCPEYECVCDPVSCDLPPVPHCERGLQPTLTNPGECRPNFTCACRKEECKRVSPPSCPPHRLPTLRKTQCCDEYECACNCVNSTVSCPLGYLASTATNDCGCTTTTCLPDKVCVHRSTIYPVGQFWEEGCDVCTCTDMEDAVMGLRVAQCSQKPCEDSCRSGFTYVLHEGECCGRCLPSACEVVTGSPRGDSQSSWKSVGSQWASPENPCLINECVRVKEEVFIQQRNVSCPQLEVPVCPSGFQLSCKTSACCPSCRCERMEACMLNGTVIGPGKTVMIDVCTTCRCMVQVGVISGFKLECRKTTCNPCPLGYKEENNTGECCGRCLPTACTIQLRGGQIMTLKRDETLQDGCDTHFCKVNERGEYFWEKRVTGCPPFDEHKCLAEGGKIMKIPGTCCDTCEEPECNDITARLQYVKVGSCKSEVEVDIHYCQGKCASKAMYSIDINDVQDQCSCCSPTRTEPMQVALHCTNGSVVYHEVLNAMECKCSPRKCSK*\n"
     ]
    }
   ],
   "source": [
    "for gene in genes_of_interest:\n",
    "    print(gene)\n",
    "    gene_cds_seq = Seq(genes_to_MANE_transcripts[genes_to_MANE_transcripts['symbol']==gene]['CDS_Seq'].values[0].upper())\n",
    "    print('CDS: ' + str(gene_cds_seq))\n",
    "    print('AA: ' + str(gene_cds_seq.translate()))\n"
   ]
  },
  {
   "cell_type": "code",
   "execution_count": null,
   "id": "0a8d287c-ef1f-4fe3-abec-77935a3c4094",
   "metadata": {},
   "outputs": [],
   "source": [
    "# Define genes\n",
    "# clotting proteins:\n",
    "\n",
    "# truncated F8 (block1_notag) \n",
    "FRED_SB1 = Seq('atgcaaatagagctctctacctgcttctttctgtgccttttgcgattctgctttagtgccaccagaagatactacctgggtgcagtggaactgtcatgggactatatgcaaagtgatctcggtgagctgcctgtggacgcaagatttcctcctagagtgccaaaatcttttccattcaacacctcagtcgtgtacaaaaagactctgtttgtagaattcacggatcaccttttcaacatcgctaagccaaggccaccctggatgggtctgctaggtcctaccatccaggctgaggtttatgatacagtggtcattacacttaagaacatggcttcccatcctgtcagtcttcatgctgttggtgtatcctactggaaagcttctgagggagctgaatatgatgatcagaccagtcaaagggagaaagaagatgataaagtcttccctggtggaagccatacatatgtctggcaggtcctgaaagagaatggtccaatggcctctgacccactgtgccttacctactcatatctttctcatgtggacctggtaaaagacttgaattcaggcctcattggagccctactagtatgtagagaagggagtctggccaaggaaaagacacagaccttgcacaaatttatactactttttgctgtatttgatgaagggaaaagttggcactcagaaacaaagaactccttgatgcaggatagggatgctgcatctgctcgggcctggcctaaaatgcacacagtcaatggttatgtaaacagatctctgccaggtctgattggatgccacaggaaatcagtctattggcatgtgattggaatgggcaccactcctgaagtgcactcaatattcctcgaaggtcacacatttcttgtgaggaaccatcgccaggcgtccttggaaatctcgccaataactttccttactgctcaaacactcttgatggaccttggacagtttctactgttttgtcatatctcttcccaccaacatgatggcatggaagcttatgtcaaagtagacagctgtccagaggaaccccaactacgaatgaaaaataatgaagaagcggaagactatgatgatgatcttactgattctgaaatggatgtggtcaggtttgatgatgacaactctccttcctttatccaaattcgctcagttgccaagaagcatcctaaaacttgggtacattacattgctgctgaagaggaggactgggactatgctcccttagtcctcgcccccgatgacagaagttataaaagtcaatatttgaacaatggccctcagcggattggtaggaagtacaaaaaagtccgatttatggcatacacagatgaaacctttaagactcgtgaagctattcagcatgaatcaggaatcttgggacctttactttatggggaagttggagacacactgttgattatatttaagaatcaagcaagcagaccatataacatctaccctcacggaatcactgatgtccgtcctttgtattcaaggagattaccaaaaggtgtaaaacatttgaaggattttccaattctgccaggagaaatattcaaatataaatggacagtgactgtagaagatgggccaactaaatcagatcctcggtgcctgacccgctattactct'.upper())\n",
    "\n",
    "# truncated F8 (block2_notag) \n",
    "FRED_SB2 = Seq('ttcaaatataaatggacagtgactgtagaagatgggccaactaaatcagatcctcggtgcctgacccgctattactctagtttcgttaatatggagagagatctagcttcaggactcattggccctctcctcatctgctacaaagaatctgtagatcaaagaggaaaccagataatgtcagacaagaggaatgtcatcctgttttctgtatttgatgagaaccgaagctggtacctcacagagaatatacaacgctttctccccaatccagctggagtgcagcttgaggatccagagttccaagcctccaacatcatgcacagcatcaatggctatgtttttgatagtttgcagttgtcagtttgtttgcatgaggtggcatactggtacattctaagcattggagcacagactgacttcctttctgtcttcttctctggatataccttcaaacacaaaatggtctatgaagacacactcaccctattcccattctcaggagaaactgtcttcatgtcgatggaaaacccaggtctatggattctggggtgccacaactcagactttcggaacagaggcatgaccgccttactgaaggtttctagttgtgacaagaacactggtgattattacgaggacagttatgaagatatttcagcatacttgctgagtaaaaacaatgccattgaaccaagaagcttctcccagaattcaagacaccctagcactaggcaaaagcaatttaatgccaccacaattccagaaaatgacatagagaagactgacccttggtttgcacacagaacacctatgcctaaaatacaaaatgtctcctctagtgatttgttgatgctcttgcgacagagtcctactccacatgggctatccttatctgatctccaagaagccaaatatgagactttttctgatgatccatcacctggagcaatagacagtaataacagcctgtctgaaatgacacacttcaggccacagctccatcacagtggggacatggtatttacccctgagtcaggcctccaattaagattaaatgagaaactggggacaactgcagcaacagagttgaagaaacttgatttcaaagtttctagtacatcaaataatctgatttcaacaattccatcagacaatttggcagcaggtactgataatacaagttccttaggacccccaagtatgccagttcattatgatagtcaattagataccactctatttggcaaaaagtcatctccccttactgagtctggtggacctctgagcttgagtgaagaaaataatgattcaaagttgttagaatcaggtttaatgaatagccaagaaagttcatggggaaaaaatgtatcgtcacgggaaataactcgtactactcttcagtcagatcaagaggaaattgactatgatgataccatatcagttgaaatgaagaaggaagattttgacatttatgatgaggatgaaaatcagagcccccgcagctttcaaaagaaaacacgacactattttattgctgcagtggagaggctctgggattatgggatgagtagctccccacatgttctaagaaacagggctcagagtggcagtgtccctcagttcaagaaagttgttttccaggaatttactgatggctcctttactcagcccttataccgtggagaactaaatgaacatttgggactcctggggccatatataaga'.upper())\n",
    "\n",
    "# truncated F8 (block3_ctag) \n",
    "FRED_SB3 = Seq('ccatatataagagcagaagttgaagataatatcatggtaactttcagaaatcaggcctctcgtccctattccttctattctagccttatttcttatgaggaagatcagaggcaaggagcagaacctagaaaaaactttgtcaagcctaatgaaaccaaaacttacttttggaaagtgcaacatcatatggcacccactaaagatgagtttgactgcaaagcctgggcttatttctctgatgttgacctggaaaaagatgtgcactcaggcctgattggaccccttctggtctgccacactaacacactgaaccctgctcatgggagacaagtgacagtacaggaatttgctctgtttttcaccatctttgatgaaaccaaaagctggtacttcactgaaaatatggaaagaaactgcagggctccctgcaatatccagatggaagatcccacttttaaagagaattatcgcttccatgcaatcaatggctacataatggatacactacctggcttagtaatggctcaggatcaaaggattcgatggtatctgctcagcatgggcagcaatgaaaacatccattctattcatttcagtggacatgtgttcactgtacgaaaaaaagaggagtataaaatggcactgtacaatctctatccaggtgtttttgagacagtggaaatgttaccatccaaagctggaatttggcgggtggaatgccttattggcgagcatctacatgctgggatgagcacactttttctggtgtacagcaataagtgtcagactcccctgggaatggcttctggacacattagagattttcagattacagcttcaggacaatatggacagtgggccccaaagctggccagacttcattattccggatcaatcaatgcctggagcaccaaggagcccttttcttggatcaaggtggatctgttggcaccaatgattattcacggcatcaagacccagggtgcccgtcagaagttctccagcctctacatctctcagtttatcatcatgtatagtcttgatgggaagaagtggcagacttatcgaggaaattccactggaaccttaatggtcttctttggcaatgtggattcatctgggataaaacacaatatttttaaccctccaattattgctcgatacatccgtttgcacccaactcattatagcattcgcagcactcttcgcatggagttgatgggctgtgatttaaatagttgcagcatgccattgggaatggagagtaaagcaatatcagatgcacagattactgcttcatcctactttaccaatatgtttgccacctggtcaccttcaaaagctcgacttcacctccaagggaggagtaatgcctggaggcctcaggtgaataatccaaaagagtggctgcaagtggacttccagaagacaatgaaagtcacaggagtaactactcagggagtaaaatctctgcttaccagcatgtatgtgaaggagttcctcatctccagcagtcaagatggccatcagtggactctcttttttcagaatggcaaagtaaaggtttttcagggaaatcaagactccttcacacctgtggtgaactctctagacccaccgttactgactcgctaccttcgaattcacccccagagttgggtgcaccagattgccctgaggatggaggttctgggctgcgaggcacaggacctctac'.upper())\n",
    "\n",
    "# VWF (block1_notag) \n",
    "VWF_SB1 = Seq(''.upper())\n",
    "\n",
    "# VWF (block2_notag) \n",
    "VWF_SB2 = Seq(''.upper())\n",
    "\n",
    "# VWF (block3_notag) \n",
    "VWF_SB3 = Seq(''.upper())\n",
    "\n",
    "# VWF (block4_notag) \n",
    "VWF_SB4 = Seq(''.upper())\n",
    "\n",
    "# VWF (block5_ctag) \n",
    "VWF_SB5 = Seq(''.upper())"
   ]
  }
 ],
 "metadata": {
  "kernelspec": {
   "display_name": "Python 3 (ipykernel)",
   "language": "python",
   "name": "python3"
  },
  "language_info": {
   "codemirror_mode": {
    "name": "ipython",
    "version": 3
   },
   "file_extension": ".py",
   "mimetype": "text/x-python",
   "name": "python",
   "nbconvert_exporter": "python",
   "pygments_lexer": "ipython3",
   "version": "3.13.2"
  }
 },
 "nbformat": 4,
 "nbformat_minor": 5
}
